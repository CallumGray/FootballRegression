{
 "cells": [
  {
   "cell_type": "code",
   "id": "initial_id",
   "metadata": {
    "collapsed": true,
    "ExecuteTime": {
     "end_time": "2025-03-16T21:13:12.466905Z",
     "start_time": "2025-03-16T21:13:11.652981Z"
    }
   },
   "source": [
    "from sklearn.model_selection import train_test_split, cross_val_score\n",
    "from sklearn.linear_model import LogisticRegression\n",
    "from sklearn.metrics import accuracy_score\n",
    "import pandas as pd\n",
    "\n",
    "premier_league_df = pd.read_json('premier-league.json')\n",
    "la_liga_df = pd.read_json('la-liga.json')\n",
    "bundesliga_df = pd.read_json('bundesliga.json')\n",
    "ligue_1_df = pd.read_json('ligue-1.json')\n",
    "serie_a_df = pd.read_json('serie-a.json')\n",
    "\n",
    "df = pd.concat([premier_league_df, la_liga_df, bundesliga_df, ligue_1_df, serie_a_df], axis=0, ignore_index=True)\n",
    "\n",
    "X = df[['distance', 'angle', 'keeper_in_position', 'blocking_bodies', 'pressuring_players', 'attacking_position', 'assist_ground', 'assist_low', 'assist_high', 'penalty', 'freekick', 'technique_other', 'technique_halfvolley', 'technique_volley', 'foot']]\n",
    "\n",
    "y = df['goal']\n",
    "\n",
    "# Split the data into training and testing sets\n",
    "X_train, X_test, y_train, y_test = train_test_split(X, y, test_size=0.2, random_state=1234)\n"
   ],
   "outputs": [],
   "execution_count": 25
  },
  {
   "metadata": {
    "ExecuteTime": {
     "end_time": "2025-03-16T21:13:13.813850Z",
     "start_time": "2025-03-16T21:13:13.196329Z"
    }
   },
   "cell_type": "code",
   "source": [
    "from statsmodels.stats.outliers_influence import variance_inflation_factor\n",
    "\n",
    "# Add a constant column for the intercept term\n",
    "X['Intercept'] = 1\n",
    "\n",
    "# Calculate VIF for each feature\n",
    "vif_data = pd.DataFrame()\n",
    "vif_data['feature'] = X.columns\n",
    "vif_data['VIF'] = [variance_inflation_factor(X.values, i) for i in range(X.shape[1])]\n",
    "\n",
    "print(vif_data)"
   ],
   "id": "365b8b10959d544c",
   "outputs": [
    {
     "name": "stderr",
     "output_type": "stream",
     "text": [
      "C:\\Users\\Callum\\AppData\\Local\\Temp\\ipykernel_10540\\3832313950.py:4: SettingWithCopyWarning: \n",
      "A value is trying to be set on a copy of a slice from a DataFrame.\n",
      "Try using .loc[row_indexer,col_indexer] = value instead\n",
      "\n",
      "See the caveats in the documentation: https://pandas.pydata.org/pandas-docs/stable/user_guide/indexing.html#returning-a-view-versus-a-copy\n",
      "  X['Intercept'] = 1\n"
     ]
    },
    {
     "name": "stdout",
     "output_type": "stream",
     "text": [
      "                 feature        VIF\n",
      "0               distance   2.754363\n",
      "1                  angle   2.668134\n",
      "2     keeper_in_position   1.150630\n",
      "3        blocking_bodies   1.409530\n",
      "4     pressuring_players   1.347048\n",
      "5     attacking_position   1.035448\n",
      "6          assist_ground   2.127717\n",
      "7             assist_low   1.288632\n",
      "8            assist_high   2.564489\n",
      "9                penalty   1.111173\n",
      "10              freekick   1.459263\n",
      "11       technique_other   1.040637\n",
      "12  technique_halfvolley   1.466044\n",
      "13      technique_volley   1.366891\n",
      "14                  foot   2.963201\n",
      "15             Intercept  88.659487\n"
     ]
    }
   ],
   "execution_count": 26
  },
  {
   "metadata": {
    "ExecuteTime": {
     "end_time": "2025-03-16T21:13:24.716827Z",
     "start_time": "2025-03-16T21:13:23.410876Z"
    }
   },
   "cell_type": "code",
   "source": [
    "# Create and train the logistic regression model\n",
    "model = LogisticRegression(max_iter=1000)\n",
    "model.fit(X_train, y_train)\n",
    "\n",
    "# Make predictions on the test set\n",
    "y_pred = model.predict(X_test)\n",
    "\n",
    "# Calculate the accuracy of the model\n",
    "accuracy = accuracy_score(y_test, y_pred)\n",
    "print('Accuracy: ', accuracy)\n",
    "\n",
    "# Perform cross-validation\n",
    "cv_scores = cross_val_score(model, X, y, cv=5)\n",
    "print(f'Cross-validation scores: {cv_scores}')\n",
    "print(f'Mean cross-validation score: {cv_scores.mean()}')"
   ],
   "id": "a89a9195c2d4c45f",
   "outputs": [
    {
     "name": "stdout",
     "output_type": "stream",
     "text": [
      "Accuracy:  0.9057305336832896\n",
      "Cross-validation scores: [0.90627734 0.90649606 0.90999563 0.90824584 0.90976703]\n",
      "Mean cross-validation score: 0.9081563816061875\n"
     ]
    }
   ],
   "execution_count": 27
  },
  {
   "metadata": {
    "ExecuteTime": {
     "end_time": "2025-03-16T18:14:43.990782Z",
     "start_time": "2025-03-16T18:14:43.883083Z"
    }
   },
   "cell_type": "code",
   "source": [
    "X = df[['distance', 'angle',  'foot', 'penalty', 'pressuring_players', 'assist_high']]\n",
    "y = df['goal']\n",
    "\n",
    "# Split the data into training and testing sets\n",
    "X_train, X_test, y_train, y_test = train_test_split(X, y, test_size=0.2, random_state=42)\n",
    "\n",
    "# Add a constant column for the intercept term\n",
    "X['Intercept'] = 1\n",
    "\n",
    "# Calculate VIF for each feature\n",
    "vif_data = pd.DataFrame()\n",
    "vif_data['feature'] = X.columns[:-1]\n",
    "vif_data['VIF'] = [variance_inflation_factor(X.values, i) for i in range(X.shape[1]-1)]\n",
    "\n",
    "print(vif_data)"
   ],
   "id": "b45b2fa4d3e186b2",
   "outputs": [
    {
     "name": "stdout",
     "output_type": "stream",
     "text": [
      "              feature       VIF\n",
      "0            distance  2.569435\n",
      "1               angle  2.572802\n",
      "2                foot  2.234719\n",
      "3             penalty  1.034749\n",
      "4  pressuring_players  1.324756\n",
      "5         assist_high  1.898377\n"
     ]
    },
    {
     "name": "stderr",
     "output_type": "stream",
     "text": [
      "C:\\Users\\Callum\\AppData\\Local\\Temp\\ipykernel_10540\\1677338420.py:8: SettingWithCopyWarning: \n",
      "A value is trying to be set on a copy of a slice from a DataFrame.\n",
      "Try using .loc[row_indexer,col_indexer] = value instead\n",
      "\n",
      "See the caveats in the documentation: https://pandas.pydata.org/pandas-docs/stable/user_guide/indexing.html#returning-a-view-versus-a-copy\n",
      "  X['Intercept'] = 1\n"
     ]
    }
   ],
   "execution_count": 24
  },
  {
   "metadata": {
    "ExecuteTime": {
     "end_time": "2025-03-16T17:21:13.068880Z",
     "start_time": "2025-03-16T17:21:12.750534Z"
    }
   },
   "cell_type": "code",
   "source": [
    "# Create and train the logistic regression model\n",
    "model = LogisticRegression(max_iter=1000)\n",
    "model.fit(X_train, y_train)\n",
    "\n",
    "# Make predictions on the test set\n",
    "y_pred = model.predict(X_test)\n",
    "\n",
    "# Calculate the accuracy of the model\n",
    "accuracy = accuracy_score(y_test, y_pred)\n",
    "print('Accuracy: ',accuracy)\n",
    "\n",
    "# Perform cross-validation\n",
    "cv_scores = cross_val_score(model, X, y, cv=5)\n",
    "print(f'Cross-validation scores: {cv_scores}')\n",
    "print(f'Mean cross-validation score: {cv_scores.mean()}')"
   ],
   "id": "74cf1110535dbe66",
   "outputs": [
    {
     "name": "stdout",
     "output_type": "stream",
     "text": [
      "Accuracy:  0.9074664964901085\n",
      "Cross-validation scores: [0.90044671 0.90229885 0.90996169 0.90804598 0.90421456]\n",
      "Mean cross-validation score: 0.904993557252431\n"
     ]
    }
   ],
   "execution_count": 20
  },
  {
   "metadata": {},
   "cell_type": "code",
   "outputs": [],
   "execution_count": null,
   "source": "",
   "id": "3d9d80379172f5ca"
  }
 ],
 "metadata": {
  "kernelspec": {
   "display_name": "Python 3",
   "language": "python",
   "name": "python3"
  },
  "language_info": {
   "codemirror_mode": {
    "name": "ipython",
    "version": 2
   },
   "file_extension": ".py",
   "mimetype": "text/x-python",
   "name": "python",
   "nbconvert_exporter": "python",
   "pygments_lexer": "ipython2",
   "version": "2.7.6"
  }
 },
 "nbformat": 4,
 "nbformat_minor": 5
}
